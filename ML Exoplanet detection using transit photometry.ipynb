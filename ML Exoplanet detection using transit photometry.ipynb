{
 "cells": [
  {
   "cell_type": "markdown",
   "metadata": {
    "id": "-gwW9Ys1QG_o"
   },
   "source": [
    "# <center> Hunt for Exoplanets using Machine Learning\n"
   ]
  },
  {
   "cell_type": "markdown",
   "metadata": {
    "id": "yju-fMzzbVhM"
   },
   "source": [
    "### Explore the Exoplanet Dataset \n"
   ]
  },
  {
   "cell_type": "markdown",
   "metadata": {
    "id": "587PWX5obVhP"
   },
   "source": [
    "We will be dealing with the **[Kepler Space Telescope data](https://www.kaggle.com/datasets/keplersmachines/kepler-labelled-time-series-data)**      \n"
   ]
  },
  {
   "cell_type": "code",
   "execution_count": 98,
   "metadata": {
    "execution": {
     "iopub.execute_input": "2022-09-03T11:20:33.638418Z",
     "iopub.status.busy": "2022-09-03T11:20:33.637772Z",
     "iopub.status.idle": "2022-09-03T11:20:33.644673Z",
     "shell.execute_reply": "2022-09-03T11:20:33.643445Z",
     "shell.execute_reply.started": "2022-09-03T11:20:33.638391Z"
    },
    "id": "kPCSBtFXbVhN"
   },
   "outputs": [],
   "source": [
    "#********************************************\n",
    "import pandas as pd\n",
    "import seaborn as sns\n",
    "#********************************************\n",
    "import numpy as np \n",
    "import matplotlib.pyplot as plt\n",
    "#********************************************\n",
    "import warnings\n",
    "warnings.filterwarnings('ignore')\n",
    "plt.style.use('fivethirtyeight')\n",
    "#********************************************"
   ]
  },
  {
   "cell_type": "code",
   "execution_count": 163,
   "metadata": {
    "execution": {
     "iopub.execute_input": "2022-09-03T11:39:13.129617Z",
     "iopub.status.busy": "2022-09-03T11:39:13.129230Z",
     "iopub.status.idle": "2022-09-03T11:39:16.592203Z",
     "shell.execute_reply": "2022-09-03T11:39:16.591047Z",
     "shell.execute_reply.started": "2022-09-03T11:39:13.129591Z"
    },
    "id": "8sCslEySbVhS"
   },
   "outputs": [],
   "source": [
    "# Let us begin with Train data\n",
    "train_df = pd.read_csv('../input/kepler-labelled-time-series-data/exoTrain.csv')\n",
    "train_df.head(10)"
   ]
  },
  {
   "cell_type": "code",
   "execution_count": 131,
   "metadata": {
    "execution": {
     "iopub.execute_input": "2022-09-03T11:30:43.031171Z",
     "iopub.status.busy": "2022-09-03T11:30:43.030537Z",
     "iopub.status.idle": "2022-09-03T11:30:43.038014Z",
     "shell.execute_reply": "2022-09-03T11:30:43.037011Z",
     "shell.execute_reply.started": "2022-09-03T11:30:43.031135Z"
    },
    "id": "FZ64b6UKbVhT"
   },
   "outputs": [],
   "source": [
    "# Check the shape of train data\n",
    "train_df.shape"
   ]
  },
  {
   "cell_type": "code",
   "execution_count": 172,
   "metadata": {
    "execution": {
     "iopub.execute_input": "2022-09-03T11:43:09.469565Z",
     "iopub.status.busy": "2022-09-03T11:43:09.469214Z",
     "iopub.status.idle": "2022-09-03T11:43:09.504882Z",
     "shell.execute_reply": "2022-09-03T11:43:09.503581Z",
     "shell.execute_reply.started": "2022-09-03T11:43:09.469540Z"
    },
    "id": "oF7ID3AzbVhW"
   },
   "outputs": [],
   "source": [
    "# Display the rows with null values\n",
    "train_df[train_df.isnull().any(axis = 1)]  # axis = 1 ---> column"
   ]
  },
  {
   "cell_type": "code",
   "execution_count": 102,
   "metadata": {
    "execution": {
     "iopub.execute_input": "2022-09-03T11:20:36.881519Z",
     "iopub.status.busy": "2022-09-03T11:20:36.880845Z",
     "iopub.status.idle": "2022-09-03T11:20:54.683607Z",
     "shell.execute_reply": "2022-09-03T11:20:54.682386Z",
     "shell.execute_reply.started": "2022-09-03T11:20:36.881455Z"
    },
    "id": "yk-bqlxqbVhX"
   },
   "outputs": [],
   "source": [
    "sns.heatmap(train_df.isnull(), cmap = 'Set2', cbar = False)"
   ]
  },
  {
   "cell_type": "markdown",
   "metadata": {
    "id": "RoYRiT8PbVhZ"
   },
   "source": [
    "#### Decoding labels in the data"
   ]
  },
  {
   "cell_type": "code",
   "execution_count": 103,
   "metadata": {
    "execution": {
     "iopub.execute_input": "2022-09-03T11:20:54.685359Z",
     "iopub.status.busy": "2022-09-03T11:20:54.685026Z",
     "iopub.status.idle": "2022-09-03T11:20:54.693111Z",
     "shell.execute_reply": "2022-09-03T11:20:54.692039Z",
     "shell.execute_reply.started": "2022-09-03T11:20:54.685331Z"
    },
    "id": "Sido6EoHbVhZ"
   },
   "outputs": [],
   "source": [
    "# Check how many labels are there\n",
    "train_df['LABEL'].unique()"
   ]
  },
  {
   "cell_type": "code",
   "execution_count": 104,
   "metadata": {
    "execution": {
     "iopub.execute_input": "2022-09-03T11:20:54.695141Z",
     "iopub.status.busy": "2022-09-03T11:20:54.694174Z",
     "iopub.status.idle": "2022-09-03T11:20:54.714045Z",
     "shell.execute_reply": "2022-09-03T11:20:54.712466Z",
     "shell.execute_reply.started": "2022-09-03T11:20:54.695114Z"
    },
    "id": "OKZIPZIlbVha"
   },
   "outputs": [],
   "source": [
    "# Extract the index for the stars labelled as 2\n",
    "idx_lab2 = list(train_df[train_df['LABEL'] == 2].index)\n",
    "print(f\"Index list for label 2 star in the data:-\\n{idx_lab2}\\n\")"
   ]
  },
  {
   "cell_type": "code",
   "execution_count": 105,
   "metadata": {
    "execution": {
     "iopub.execute_input": "2022-09-03T11:20:54.715583Z",
     "iopub.status.busy": "2022-09-03T11:20:54.715312Z",
     "iopub.status.idle": "2022-09-03T11:20:54.845238Z",
     "shell.execute_reply": "2022-09-03T11:20:54.844297Z",
     "shell.execute_reply.started": "2022-09-03T11:20:54.715556Z"
    },
    "id": "PbQ-5DP1bVhb"
   },
   "outputs": [],
   "source": [
    "# Visualise these values using countplot\n",
    "plt.figure(figsize = (3, 5))                                                   \n",
    "ax = sns.countplot('LABEL', data = train_df, palette = 'Set2')                    \n",
    "ax.bar_label(ax.containers[0])\n",
    "plt.title(\"Visualising count of classes\\n1 ~ Non Exoplanets | 2 ~ Exoplanets\\n\", \n",
    "          fontsize = 15, color = 'red', weight = 'bold')\n",
    "plt.show()"
   ]
  },
  {
   "cell_type": "markdown",
   "metadata": {
    "id": "ppqriOT7bVhc"
   },
   "source": [
    "#### Replacing the labels\n",
    "For ease of our model its always better to feed in the data in terms of 0 and 1         \n",
    "- Stars with Exoplanets: 2 $\\rightarrow$ 1      \n",
    "- Stars without Exoplanets: 1 $\\rightarrow$ 0"
   ]
  },
  {
   "cell_type": "code",
   "execution_count": 132,
   "metadata": {
    "execution": {
     "iopub.execute_input": "2022-09-03T11:30:55.803933Z",
     "iopub.status.busy": "2022-09-03T11:30:55.803531Z",
     "iopub.status.idle": "2022-09-03T11:30:55.835231Z",
     "shell.execute_reply": "2022-09-03T11:30:55.834160Z",
     "shell.execute_reply.started": "2022-09-03T11:30:55.803907Z"
    },
    "id": "XtqiO4AObVhd"
   },
   "outputs": [],
   "source": [
    "# Replacing labels \n",
    "train_df = train_df.replace({'LABEL' : {1:0, 2:1}})\n",
    "print(\"Replacing labels...\")\n",
    "\n",
    "# Check the labels now\n",
    "print(\"Done!\\n\")\n",
    "uniq_val = train_df.LABEL.unique()\n",
    "print(f\"There are {len(uniq_val)} classes in the data:-\")\n",
    "print(f\"{uniq_val[0]} - Stars with Exoplanets\\n{uniq_val[1]} - Stars without Exoplantes\")"
   ]
  },
  {
   "cell_type": "markdown",
   "metadata": {
    "id": "JsYssnqibVhd"
   },
   "source": [
    "#### Visualising the light curves in this data\n",
    "When a planet passes between an observer and the star, the flux value decreases and hence we see a dip in light curves with exoplanets\n"
   ]
  },
  {
   "cell_type": "code",
   "execution_count": 133,
   "metadata": {
    "execution": {
     "iopub.execute_input": "2022-09-03T11:31:10.514774Z",
     "iopub.status.busy": "2022-09-03T11:31:10.514436Z",
     "iopub.status.idle": "2022-09-03T11:31:10.548619Z",
     "shell.execute_reply": "2022-09-03T11:31:10.546748Z",
     "shell.execute_reply.started": "2022-09-03T11:31:10.514749Z"
    },
    "id": "FAP0AP23bVhe"
   },
   "outputs": [],
   "source": [
    "# Drop label column to plot only the flux values\n",
    "plot_df = train_df.drop(['LABEL'], axis = 1)\n",
    "\n",
    "# X - axis data: Replace FLUX. from each column names\n",
    "col_names = list(plot_df.columns)\n",
    "time = [int(flux_prefix.replace(\"FLUX.\", \"\")) for flux_prefix in col_names]\n",
    "\n",
    "# Function to plot flux variation of star\n",
    "def flux_plot(df, candidate, exo = True):\n",
    "    color = 'b' if exo == True else 'm'\n",
    "    plt.figure(figsize=(15, 5))\n",
    "    plt.plot(time, df.iloc[candidate-1], linewidth = .5, color = color)\n",
    "    title1, clr1 = f\"Flux Variation of star {candidate} with Exoplanents\", 'olive'\n",
    "    title2, clr2 = f\"Flux Variation of star {candidate} without Exoplanets\", 'tab:red'\n",
    "    plt.title(title1, color = clr1) if exo == True else plt.title(title2, color = clr2)\n",
    "    plt.xlabel(\"Time\")\n",
    "    plt.ylabel(\"Flux Variation\")"
   ]
  },
  {
   "cell_type": "code",
   "execution_count": 134,
   "metadata": {
    "execution": {
     "iopub.execute_input": "2022-09-03T11:31:15.999664Z",
     "iopub.status.busy": "2022-09-03T11:31:15.998729Z",
     "iopub.status.idle": "2022-09-03T11:31:17.051226Z",
     "shell.execute_reply": "2022-09-03T11:31:17.050051Z",
     "shell.execute_reply.started": "2022-09-03T11:31:15.999636Z"
    },
    "id": "1cnuHg8ebVhf"
   },
   "outputs": [],
   "source": [
    "# Example of light curves\n",
    "exo, n_exo = [4, 14, 34], [99, 199, 2999]\n",
    "\n",
    "for candidate in range(len(exo)):\n",
    "    flux_plot(plot_df, exo[candidate], exo = True)\n",
    "    flux_plot(plot_df, n_exo[candidate], exo = False)"
   ]
  },
  {
   "cell_type": "markdown",
   "metadata": {
    "id": "yB_vuGpKbVhf"
   },
   "source": [
    "<a id=\"section2\"></a>"
   ]
  },
  {
   "cell_type": "markdown",
   "metadata": {
    "id": "4KL3kpy3bVhf"
   },
   "source": [
    "### Extreme outliers \n",
    "- We can see random **huge spikes** especially in stars without exoplanets which can be considered as extreme outliers\n",
    "\n",
    "- KNN can be sensitive to outliers (explained later in this notebook) so we will need to handle it \n",
    "\n",
    "- We can also visualise these extreme outliers through boxplot"
   ]
  },
  {
   "cell_type": "code",
   "execution_count": 142,
   "metadata": {
    "execution": {
     "iopub.execute_input": "2022-09-03T11:33:49.038902Z",
     "iopub.status.busy": "2022-09-03T11:33:49.038561Z",
     "iopub.status.idle": "2022-09-03T11:33:49.419792Z",
     "shell.execute_reply": "2022-09-03T11:33:49.418647Z",
     "shell.execute_reply.started": "2022-09-03T11:33:49.038877Z"
    },
    "id": "xVTFFfj4bVhg"
   },
   "outputs": [],
   "source": [
    "# Boxplot to visualise outliers\n",
    "plt.figure(figsize = (20, 9))\n",
    "plt.suptitle(\"Box Plot to visualise outliers\", ha = 'right', color = 'red', weight = 'bold')\n",
    "for i in range(1, 4):\n",
    "    plt.subplot(1, 4, i)\n",
    "    sns.boxplot(data=train_df, x='LABEL', y = 'FLUX.' + str(i))\n",
    "    plt.xlabel(\"\")\n",
    "    plt.ylabel(\"\")\n",
    "    plt.title(\"FLUX \" + str(i) + \"\\n\", color = 'b', fontsize = 13)\n"
   ]
  },
  {
   "cell_type": "code",
   "execution_count": 167,
   "metadata": {
    "execution": {
     "iopub.execute_input": "2022-09-03T11:39:46.636162Z",
     "iopub.status.busy": "2022-09-03T11:39:46.635387Z",
     "iopub.status.idle": "2022-09-03T11:39:46.664437Z",
     "shell.execute_reply": "2022-09-03T11:39:46.663628Z",
     "shell.execute_reply.started": "2022-09-03T11:39:46.636088Z"
    }
   },
   "outputs": [],
   "source": [
    "# Get the extreme outliers\n",
    "extreme_outliers = train_df[train_df['FLUX.2'] > 0.25e6]\n",
    "extreme_outliers"
   ]
  },
  {
   "cell_type": "code",
   "execution_count": 168,
   "metadata": {
    "execution": {
     "iopub.execute_input": "2022-09-03T11:40:01.711589Z",
     "iopub.status.busy": "2022-09-03T11:40:01.711204Z",
     "iopub.status.idle": "2022-09-03T11:40:01.782348Z",
     "shell.execute_reply": "2022-09-03T11:40:01.780888Z",
     "shell.execute_reply.started": "2022-09-03T11:40:01.711563Z"
    },
    "id": "ObjdQ4wsbVhh"
   },
   "outputs": [],
   "source": [
    "# Drop the extreme outlier\n",
    "print(\"Droping Extreme Outliers...\")\n",
    "train_df.drop(extreme_outliers.index, axis = 0, inplace = True)  # axis = 0 ----> row\n",
    "print(\"Done!\")"
   ]
  },
  {
   "cell_type": "code",
   "execution_count": 173,
   "metadata": {
    "execution": {
     "iopub.execute_input": "2022-09-03T11:44:14.069561Z",
     "iopub.status.busy": "2022-09-03T11:44:14.069224Z",
     "iopub.status.idle": "2022-09-03T11:44:14.228490Z",
     "shell.execute_reply": "2022-09-03T11:44:14.227697Z",
     "shell.execute_reply.started": "2022-09-03T11:44:14.069538Z"
    },
    "id": "hkWLtVEdbVhh"
   },
   "outputs": [],
   "source": [
    "# Cross check via any random box plot\n",
    "sns.boxplot(data=train_df, x='LABEL', y = 'FLUX.' + str(np.random.randint(1000)))"
   ]
  },
  {
   "cell_type": "markdown",
   "metadata": {
    "id": "cWWnnVFVbVhi"
   },
   "source": [
    "<a id = 'section3'></a>"
   ]
  },
  {
   "cell_type": "markdown",
   "metadata": {
    "id": "ewVyNHhebVhj"
   },
   "source": [
    "### Implementing KNN after handling the extreme outliers but have yet not balanced the data\n",
    "*It would be interesting to compare the results with and without imbalance in our data. Let us first start with imbalanced data:-*"
   ]
  },
  {
   "cell_type": "code",
   "execution_count": 138,
   "metadata": {
    "execution": {
     "iopub.execute_input": "2022-09-03T11:31:53.032821Z",
     "iopub.status.busy": "2022-09-03T11:31:53.032461Z",
     "iopub.status.idle": "2022-09-03T11:31:53.064829Z",
     "shell.execute_reply": "2022-09-03T11:31:53.063371Z",
     "shell.execute_reply.started": "2022-09-03T11:31:53.032796Z"
    },
    "id": "cynthuX8bVhj"
   },
   "outputs": [],
   "source": [
    "# Extract dependent and independent features\n",
    "x = train_df.drop(['LABEL'], axis = 1)\n",
    "y = train_df.LABEL\n",
    "\n",
    "print(f\"Take a look over ~\\n\\nX train array:-\\n{x.values}\\n\\nY train array:-\\n{y.values}\")"
   ]
  },
  {
   "cell_type": "code",
   "execution_count": 113,
   "metadata": {
    "execution": {
     "iopub.execute_input": "2022-09-03T11:20:56.696390Z",
     "iopub.status.busy": "2022-09-03T11:20:56.695330Z",
     "iopub.status.idle": "2022-09-03T11:20:56.792324Z",
     "shell.execute_reply": "2022-09-03T11:20:56.791523Z",
     "shell.execute_reply.started": "2022-09-03T11:20:56.696363Z"
    },
    "id": "h9xwQvdsbVhk"
   },
   "outputs": [],
   "source": [
    "# Splitting this dataset into training and testing set\n",
    "from sklearn.model_selection import train_test_split\n",
    "\n",
    "X_train, X_test, y_train, y_test = train_test_split(x, y, test_size = 0.3, random_state = 0)"
   ]
  },
  {
   "cell_type": "code",
   "execution_count": 114,
   "metadata": {
    "execution": {
     "iopub.execute_input": "2022-09-03T11:20:56.793411Z",
     "iopub.status.busy": "2022-09-03T11:20:56.793203Z",
     "iopub.status.idle": "2022-09-03T11:20:57.012448Z",
     "shell.execute_reply": "2022-09-03T11:20:57.011266Z",
     "shell.execute_reply.started": "2022-09-03T11:20:56.793390Z"
    },
    "id": "VagRDCuebVhk"
   },
   "outputs": [],
   "source": [
    "# Feature scaling\n",
    "from sklearn.preprocessing import StandardScaler \n",
    "\n",
    "sc = StandardScaler()\n",
    "X_train_sc = sc.fit_transform(X_train)\n",
    "X_test_sc = sc.transform(X_test)\n",
    "\n",
    "# Checking the minimum, mean and maxmum value after scaling\n",
    "print(\"X_train after scaling ~\\n\")\n",
    "print(f\"Minimum:- {round(np.min(X_train_sc),2)}\\nMean:- {round(np.mean(X_train_sc),2)}\\nMax:- {round(np.max(X_train_sc), 2)}\\n\")\n",
    "print(\"--------------------------------\\n\")\n",
    "print(\"X_test after scaling ~\\n\")\n",
    "print(f\"Minimum:- {round(np.min(X_test_sc),2)}\\nMean:- {round(np.mean(X_test_sc),2)}\\nMax:- {round(np.max(X_test_sc), 2)}\\n\")"
   ]
  },
  {
   "cell_type": "code",
   "execution_count": 115,
   "metadata": {
    "execution": {
     "iopub.execute_input": "2022-09-03T11:20:57.015529Z",
     "iopub.status.busy": "2022-09-03T11:20:57.015249Z",
     "iopub.status.idle": "2022-09-03T11:20:58.403761Z",
     "shell.execute_reply": "2022-09-03T11:20:58.401413Z",
     "shell.execute_reply.started": "2022-09-03T11:20:57.015505Z"
    },
    "id": "8I4vQE0wbVhk"
   },
   "outputs": [],
   "source": [
    "# Fiting the KNN Classifier Model on to the training data\n",
    "from sklearn.neighbors import KNeighborsClassifier as KNC\n",
    "\n",
    "# Choosing K = 10\n",
    "knn_classifier = KNC(n_neighbors=5,metric='minkowski',p=2)  \n",
    "'''metric is to be by default minkowski for p = 2 to calculate the Eucledian distances'''\n",
    "\n",
    "# Fit the model\n",
    "knn_classifier.fit(X_train_sc, y_train)\n",
    "\n",
    "# Predict\n",
    "y_pred = knn_classifier.predict(X_test_sc)\n",
    "\n",
    "# Results\n",
    "from sklearn.metrics import confusion_matrix, accuracy_score, classification_report, roc_curve, auc\n",
    "\n",
    "print('\\nValidation accuracy of KNN is', accuracy_score(y_test,y_pred))\n",
    "print(\"\\n-------------------------------------------------------\")\n",
    "print (\"\\nClassification report :\\n\",(classification_report(y_test,y_pred)))\n",
    "\n",
    "#Confusion matrix\n",
    "plt.figure(figsize=(15,11))\n",
    "plt.subplots_adjust(wspace = 0.3)\n",
    "plt.suptitle(\"KNN Performance before handling the imbalance in the data\", color = 'r', weight = 'bold')\n",
    "plt.subplot(221)\n",
    "sns.heatmap(confusion_matrix(y_test,y_pred),annot=True,cmap=\"Set2\",fmt = \"d\",linewidths=3, cbar = False,\n",
    "           xticklabels=['nexo', 'exo'], yticklabels=['nexo','exo'], square = True)\n",
    "plt.xlabel(\"True Labels\", fontsize = 15, weight = 'bold', color = 'tab:pink')\n",
    "plt.ylabel(\"Predicited Labels\", fontsize = 15, weight = 'bold', color = 'tab:pink')\n",
    "plt.title(\"CONFUSION MATRIX\",fontsize=20, color = 'm')\n",
    "\n",
    "#ROC curve and Area under the curve plotting\n",
    "predicting_probabilites = knn_classifier.predict_proba(X_test_sc)[:,1]\n",
    "fpr,tpr,thresholds = roc_curve(y_test,predicting_probabilites)\n",
    "plt.subplot(222)\n",
    "plt.plot(fpr,tpr,label = (\"AUC :\",auc(fpr,tpr)),color = \"g\")\n",
    "plt.plot([1,0],[1,0],\"k--\")\n",
    "plt.legend()\n",
    "plt.xlabel('False Positive Rate')\n",
    "plt.ylabel('True Positive Rate')\n",
    "plt.title(\"ROC - CURVE & AREA UNDER CURVE\",fontsize=20, color = 'm')\n",
    "plt.show()\n",
    "\n"
   ]
  },
  {
   "cell_type": "markdown",
   "metadata": {
    "id": "n1oK_CTWbVhm"
   },
   "source": [
    "### Handling the imbalance in the data and then applying KNN\n",
    "*There are many techniques available out of which we will be trying* ***RandomOverSampler***:-     \n",
    " RandomOverSampler is over-sampling by duplicating some of the original samples of the minority class"
   ]
  },
  {
   "cell_type": "markdown",
   "metadata": {
    "id": "luXeGVQobVhm"
   },
   "source": [
    "<a id='section5'></a>"
   ]
  },
  {
   "cell_type": "code",
   "execution_count": 175,
   "metadata": {
    "execution": {
     "iopub.execute_input": "2022-09-03T11:44:41.309210Z",
     "iopub.status.busy": "2022-09-03T11:44:41.308648Z",
     "iopub.status.idle": "2022-09-03T11:44:42.038079Z",
     "shell.execute_reply": "2022-09-03T11:44:42.037006Z",
     "shell.execute_reply.started": "2022-09-03T11:44:41.309182Z"
    },
    "id": "5HFfM7SbbVhm"
   },
   "outputs": [],
   "source": [
    "# Handling imbalanced data using RandomOverSampler\n",
    "from imblearn.over_sampling import RandomOverSampler\n",
    "from collections import Counter\n",
    "\n",
    "ros = RandomOverSampler()\n",
    "x_ros, y_ros = ros.fit_resample(x, y)  # Taking the original x, y as arguments\n",
    "\n",
    "print(f\"Before sampling:- {Counter(y)}\")\n",
    "print(f\"After sampling:- {Counter(y_ros)}\")"
   ]
  },
  {
   "cell_type": "code",
   "execution_count": 216,
   "metadata": {
    "execution": {
     "iopub.execute_input": "2022-09-03T12:39:34.595283Z",
     "iopub.status.busy": "2022-09-03T12:39:34.594791Z",
     "iopub.status.idle": "2022-09-03T12:39:35.143271Z",
     "shell.execute_reply": "2022-09-03T12:39:35.142107Z",
     "shell.execute_reply.started": "2022-09-03T12:39:34.595258Z"
    },
    "id": "V0JzAejgbVhn"
   },
   "outputs": [],
   "source": [
    "# Visualise it\n",
    "y_ros.value_counts().plot(kind='bar', title='After aplying RandomOverSampler');\n"
   ]
  },
  {
   "cell_type": "markdown",
   "metadata": {
    "execution": {
     "iopub.execute_input": "2022-09-03T13:33:51.118507Z",
     "iopub.status.busy": "2022-09-03T13:33:51.118133Z",
     "iopub.status.idle": "2022-09-03T13:33:51.126437Z",
     "shell.execute_reply": "2022-09-03T13:33:51.125012Z",
     "shell.execute_reply.started": "2022-09-03T13:33:51.118461Z"
    }
   },
   "source": [
    "#### Repeating the above steps"
   ]
  },
  {
   "cell_type": "code",
   "execution_count": 119,
   "metadata": {
    "execution": {
     "iopub.execute_input": "2022-09-03T11:20:59.633031Z",
     "iopub.status.busy": "2022-09-03T11:20:59.632609Z",
     "iopub.status.idle": "2022-09-03T11:21:00.265216Z",
     "shell.execute_reply": "2022-09-03T11:21:00.263695Z",
     "shell.execute_reply.started": "2022-09-03T11:20:59.632994Z"
    },
    "id": "kgiRkAU4bVhn"
   },
   "outputs": [],
   "source": [
    "#  ****************************************************************\n",
    "# | Performing split and scaling on the random over sampled data  |\n",
    "# ****************************************************************\n",
    "\n",
    "X_train, X_test, y_train, y_test = train_test_split(x_ros, y_ros, test_size = 0.3, random_state = 0)\n",
    "\n",
    "sc = StandardScaler()\n",
    "X_train_sc = sc.fit_transform(X_train)\n",
    "X_test_sc = sc.transform(X_test)"
   ]
  },
  {
   "cell_type": "markdown",
   "metadata": {},
   "source": [
    "##### Creating a function to try to fetch the optimal value of K"
   ]
  },
  {
   "cell_type": "code",
   "execution_count": 120,
   "metadata": {
    "execution": {
     "iopub.execute_input": "2022-09-03T11:21:00.266914Z",
     "iopub.status.busy": "2022-09-03T11:21:00.266658Z",
     "iopub.status.idle": "2022-09-03T11:21:00.278081Z",
     "shell.execute_reply": "2022-09-03T11:21:00.277245Z",
     "shell.execute_reply.started": "2022-09-03T11:21:00.266891Z"
    },
    "id": "ndmM1A10bVhn"
   },
   "outputs": [],
   "source": [
    "# Create function to fetch the optimal value of K\n",
    "def optimal_Kval_KNN(start_k, end_k, x_train, x_test, y_train, y_test, progress = True):\n",
    "    ''' \n",
    "    This function takes in the following arguments -\n",
    "    start_k - start value of k\n",
    "    end_k - end value of k\n",
    "    x_train - independent training values for training the KNN\n",
    "    x_test - independent testing values for prediction\n",
    "    y_train - dependent training values for training KNN\n",
    "    y_test - dependent testing values for computing error rate\n",
    "    progress - if true shows the progress for each k (by default its set to True)\n",
    "    '''\n",
    "    # Header\n",
    "    print(f\"Fetching the optimal value of K in between {start_k} & {end_k} ~\\n\\nIn progress...\")\n",
    "    \n",
    "    # Empty list to append error rate\n",
    "    mean_err = []\n",
    "    for K in range(start_k, end_k + 1):                         # Generates K from start to end-1 values\n",
    "        knn = KNC(n_neighbors = K)                              # Build KNN for respective K value\n",
    "        knn.fit(x_train, y_train)                               # Train the model\n",
    "        err_rate = np.mean(knn.predict(x_test) != y_test)       # Get the error rate\n",
    "        mean_err.append(err_rate)                               # Append it\n",
    "        # If progress is true display the error rate for each K\n",
    "        if progress == True:print(f'For K = {K}, mean error = {err_rate:.3}')\n",
    "        \n",
    "    # Get the optimal value of k and corresponding value of mean error\n",
    "    k, val = mean_err.index(min(mean_err))+1, min(mean_err)\n",
    "    \n",
    "    # Footer\n",
    "    print('\\nDone! Here is how error rate varies wrt to K values:- \\n')\n",
    "    \n",
    "    # Display how error rate changes wrt K values and mark the optimal K value\n",
    "    plt.figure(figsize = (5,5))\n",
    "    plt.plot(range(start_k,end_k + 1), mean_err, 'mo--', markersize = 8, markerfacecolor = 'c',\n",
    "            linewidth = 1)          # plots all mean error wrt K values\n",
    "    plt.plot(k, val, marker = 'o', markersize = 8, markerfacecolor = 'gold', \n",
    "             markeredgecolor = 'g') # highlits the optimal K\n",
    "    plt.title(f\"The optimal performance is obtained at K = {k}\", color = 'r', weight = 'bold',\n",
    "             fontsize = 15)\n",
    "    plt.ylabel(\"Error Rate\", color = 'olive', fontsize = 13)\n",
    "    plt.xlabel(\"K values\", color = 'olive', fontsize = 13)\n",
    "    \n",
    "    '''returns the optimal value of k'''\n",
    "    return k"
   ]
  },
  {
   "cell_type": "code",
   "execution_count": 121,
   "metadata": {
    "execution": {
     "iopub.execute_input": "2022-09-03T11:21:00.279642Z",
     "iopub.status.busy": "2022-09-03T11:21:00.279335Z",
     "iopub.status.idle": "2022-09-03T11:21:21.693217Z",
     "shell.execute_reply": "2022-09-03T11:21:21.692435Z",
     "shell.execute_reply.started": "2022-09-03T11:21:00.279615Z"
    },
    "id": "Ju3OoHr0uMLh"
   },
   "outputs": [],
   "source": [
    "k = optimal_Kval_KNN(1, 10, X_train_sc, X_test_sc, y_train, y_test)"
   ]
  },
  {
   "cell_type": "code",
   "execution_count": 260,
   "metadata": {
    "execution": {
     "iopub.execute_input": "2022-09-03T14:12:09.753498Z",
     "iopub.status.busy": "2022-09-03T14:12:09.753128Z",
     "iopub.status.idle": "2022-09-03T14:12:13.719203Z",
     "shell.execute_reply": "2022-09-03T14:12:13.717714Z",
     "shell.execute_reply.started": "2022-09-03T14:12:09.753445Z"
    },
    "id": "mLjStmN1bVho"
   },
   "outputs": [],
   "source": [
    "# Fiting the KNN Classifier Model on to the training data after\n",
    "\n",
    "# Choosing K = 1\n",
    "knn_classifier = KNC(n_neighbors=1,metric='minkowski',p=2)  \n",
    "'''metric is to be by default minkowski for p = 2 to calculate the Eucledian distances'''\n",
    "\n",
    "# Fit the model\n",
    "knn_classifier.fit(X_train_sc, y_train)\n",
    "\n",
    "# Predict\n",
    "y_pred = knn_classifier.predict(X_test_sc)\n",
    "\n",
    "# Results\n",
    "from sklearn.metrics import confusion_matrix, accuracy_score, classification_report, roc_curve, auc\n",
    "\n",
    "print('\\nValidation accuracy of KNN is', accuracy_score(y_test,y_pred))\n",
    "print(\"\\n-------------------------------------------------------\")\n",
    "print (\"\\nClassification report :\\n\",(classification_report(y_test,y_pred)))\n",
    "\n",
    "#Confusion matrix\n",
    "plt.figure(figsize=(15,11))\n",
    "plt.subplots_adjust(wspace = 0.3)\n",
    "plt.suptitle(\"KNN Performance after handling the imbalance in the data\", color = 'b', weight = 'bold')\n",
    "plt.subplot(221)\n",
    "sns.heatmap(confusion_matrix(y_test,y_pred),annot=True,cmap=\"Set2\",fmt = \"d\",linewidths=3, cbar = False,\n",
    "           xticklabels=['nexo', 'exo'], yticklabels=['nexo','exo'], square = True)\n",
    "plt.xlabel(\"True Labels\", fontsize = 15, weight = 'bold', color = 'm')\n",
    "plt.ylabel(\"Predicited Labels\", fontsize = 15, weight = 'bold', color = 'm')\n",
    "plt.title(\"CONFUSION MATRIX\",fontsize=20, color = 'purple')\n",
    "\n",
    "#ROC curve and Area under the curve plotting\n",
    "predicting_probabilites = knn_classifier.predict_proba(X_test_sc)[:,1]\n",
    "fpr,tpr,thresholds = roc_curve(y_test,predicting_probabilites)\n",
    "plt.subplot(222)\n",
    "plt.plot(fpr,tpr,label = (\"AUC :\",auc(fpr,tpr)),color = \"g\")\n",
    "plt.plot([1,0],[1,0], 'k--')\n",
    "plt.legend(loc = \"best\")\n",
    "plt.xlabel('False Positive Rate')\n",
    "plt.ylabel('True Positive Rate')\n",
    "plt.title(\"ROC - CURVE & AREA UNDER CURVE\",fontsize=20, color = 'm')\n",
    "plt.show()"
   ]
  }
 ],
 "metadata": {
  "kernelspec": {
   "display_name": "Python 3 (ipykernel)",
   "language": "python",
   "name": "python3"
  },
  "language_info": {
   "codemirror_mode": {
    "name": "ipython",
    "version": 3
   },
   "file_extension": ".py",
   "mimetype": "text/x-python",
   "name": "python",
   "nbconvert_exporter": "python",
   "pygments_lexer": "ipython3",
   "version": "3.8.5"
  }
 },
 "nbformat": 4,
 "nbformat_minor": 4
}
